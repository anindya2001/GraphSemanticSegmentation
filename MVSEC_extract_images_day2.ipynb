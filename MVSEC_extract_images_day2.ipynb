{
  "nbformat": 4,
  "nbformat_minor": 0,
  "metadata": {
    "colab": {
      "name": "MVSEC_extract_images_day2.ipynb",
      "provenance": [],
      "collapsed_sections": [],
      "include_colab_link": true
    },
    "kernelspec": {
      "name": "python3",
      "display_name": "Python 3"
    },
    "language_info": {
      "name": "python"
    }
  },
  "cells": [
    {
      "cell_type": "markdown",
      "metadata": {
        "id": "view-in-github",
        "colab_type": "text"
      },
      "source": [
        "<a href=\"https://colab.research.google.com/github/anindya2001/GraphSemanticSegmentation/blob/main/MVSEC_extract_images_day2.ipynb\" target=\"_parent\"><img src=\"https://colab.research.google.com/assets/colab-badge.svg\" alt=\"Open In Colab\"/></a>"
      ]
    },
    {
      "cell_type": "code",
      "metadata": {
        "colab": {
          "base_uri": "https://localhost:8080/"
        },
        "id": "2TKp2LTMDC9s",
        "outputId": "0ae8cf6c-316d-43b6-b628-cefab0987623"
      },
      "source": [
        "from google.colab import drive\n",
        "drive.mount('/content/drive')"
      ],
      "execution_count": null,
      "outputs": [
        {
          "output_type": "stream",
          "text": [
            "Mounted at /content/drive\n"
          ],
          "name": "stdout"
        }
      ]
    },
    {
      "cell_type": "code",
      "metadata": {
        "id": "rqMuS39qW2Up"
      },
      "source": [
        "from PIL import Image as im\n",
        "import os\n",
        "import cv2\n",
        "import math\n",
        "import scipy.io\n",
        "import random\n",
        "import networkx\n",
        "import h5py\n",
        "import numpy as np"
      ],
      "execution_count": null,
      "outputs": []
    },
    {
      "cell_type": "code",
      "metadata": {
        "colab": {
          "base_uri": "https://localhost:8080/"
        },
        "id": "oR_LBwebDHdg",
        "outputId": "c7117861-210d-4d26-dd71-0030f7efb6e9"
      },
      "source": [
        "file_name = \"/content/drive/MyDrive/hdf5/outdoor_day/outdoor_day2_data.hdf5\"\n",
        "\n",
        "f = h5py.File(file_name, \"r\")\n",
        "for key in f.keys():\n",
        "  print(key)"
      ],
      "execution_count": null,
      "outputs": [
        {
          "output_type": "stream",
          "text": [
            "davis\n",
            "velodyne\n",
            "visensor\n"
          ],
          "name": "stdout"
        }
      ]
    },
    {
      "cell_type": "code",
      "metadata": {
        "colab": {
          "base_uri": "https://localhost:8080/"
        },
        "id": "T3GlUTgNDv47",
        "outputId": "e9aeabaa-151b-4902-ddff-4ee23d4a4028"
      },
      "source": [
        "davis = f['davis']\n",
        "for key in davis.keys():\n",
        "  print(key)"
      ],
      "execution_count": null,
      "outputs": [
        {
          "output_type": "stream",
          "text": [
            "left\n",
            "right\n"
          ],
          "name": "stdout"
        }
      ]
    },
    {
      "cell_type": "code",
      "metadata": {
        "id": "DDfJmEfmD3xf"
      },
      "source": [
        "left = davis['left']\n",
        "for key in left.keys():\n",
        "  print(key,end=' = ')\n",
        "  print(len(left[str(key)]))"
      ],
      "execution_count": null,
      "outputs": []
    },
    {
      "cell_type": "code",
      "metadata": {
        "id": "A8uSNYVIWC_W"
      },
      "source": [
        "events = left['events']\n",
        "image_raw = left['image_raw']\n",
        "image_raw_ts = left['image_raw_ts']\n",
        "image_raw_event_inds = left['image_raw_event_inds']"
      ],
      "execution_count": null,
      "outputs": []
    },
    {
      "cell_type": "code",
      "metadata": {
        "id": "OgO5Lj_0D9sU"
      },
      "source": [
        "image_raw_sample = image_raw[1:101]\n",
        "image_raw_event_inds_sample = image_raw_event_inds[1:101]\n",
        "image_raw_ts_sample = image_raw_ts[1:101]"
      ],
      "execution_count": null,
      "outputs": []
    },
    {
      "cell_type": "code",
      "metadata": {
        "id": "cocvDgIvVKFU"
      },
      "source": [
        "image_raw_batch = np.asarray(image_raw_sample)\n",
        "image_raw_ts_batch = np.asarray(image_raw_ts_sample)\n",
        "image_raw_event_inds_batch = np.asarray(image_raw_event_inds_sample)"
      ],
      "execution_count": null,
      "outputs": []
    },
    {
      "cell_type": "markdown",
      "metadata": {
        "id": "n4NVRP49Bllq"
      },
      "source": [
        "Each image is of the dimension 260 x 346\n",
        "\n",
        "Each pixel has a gray value between [0,256)"
      ]
    },
    {
      "cell_type": "code",
      "metadata": {
        "id": "Xm5p5f6aWrox"
      },
      "source": [
        "img = im.fromarray(image_raw_batch[0]);\n",
        "image_raw_batch[0].shape"
      ],
      "execution_count": null,
      "outputs": []
    },
    {
      "cell_type": "code",
      "metadata": {
        "id": "ZZDGa9EMXEVg"
      },
      "source": [
        "image_raw_ts_batch[0],image_raw_ts_batch[1]"
      ],
      "execution_count": null,
      "outputs": []
    },
    {
      "cell_type": "code",
      "metadata": {
        "id": "w3dwOvvsYCiT"
      },
      "source": [
        "image_raw_event_inds_batch[0], image_raw_event_inds_batch[1]"
      ],
      "execution_count": null,
      "outputs": []
    },
    {
      "cell_type": "code",
      "metadata": {
        "id": "Fnto9JCHD855"
      },
      "source": [
        "A = image_raw_batch[0]\n",
        "B = image_raw_batch[1]\n",
        "(A==B).all()"
      ],
      "execution_count": null,
      "outputs": []
    },
    {
      "cell_type": "code",
      "metadata": {
        "id": "tPhc_dUlXN8l"
      },
      "source": [
        "# for saving the batch of images. Do not run otherwise\n",
        "#for i in range(100):\n",
        "#  x = str(i//10)\n",
        "#  y = str(i%10)\n",
        "#  np.save(os.path.join('image_raw_batch_as_npy','image_raw_00'+x+y),image_raw_batch)\n",
        "#  np.save(os.path.join('image_raw_ts_batch_as_npy','image_raw_ts_00'+x+y),image_raw_ts_batch)\n",
        "#  np.save(os.path.join('image_raw_event_inds_batch_as_npy','image_raw_event_inds_00'+x+y),image_raw_event_inds_batch)"
      ],
      "execution_count": null,
      "outputs": []
    },
    {
      "cell_type": "code",
      "metadata": {
        "id": "dAWRpZ0JZT9A"
      },
      "source": [
        "# for creating a zip file. Do not run otherwise\n",
        "# !zip -r image_raw_batch_as_npy.zip /content/image_raw_batch_as_npy\n",
        "# !zip -r image_raw_event_inds_batch_as_npy.zip /content/image_raw_event_inds_batch_as_npy\n",
        "# !zip -r image_raw_ts_batch_as_npy /content/image_raw_ts_batch_as_npy"
      ],
      "execution_count": null,
      "outputs": []
    },
    {
      "cell_type": "code",
      "metadata": {
        "id": "Mj000edcaxfa"
      },
      "source": [
        "# for moving a file. Do not otherwise\n",
        "# !mv /content/image_raw_batch_as_npy.zip /content/drive/MyDrive/Labelling_data"
      ],
      "execution_count": null,
      "outputs": []
    },
    {
      "cell_type": "code",
      "metadata": {
        "id": "KVH3MYzgcUc_"
      },
      "source": [
        "# !mv /content/image_raw_event_inds_batch_as_npy.zip /content/drive/MyDrive/Labelling_data\n",
        "# !mv /content/image_raw_ts_batch_as_npy.zip /content/drive/MyDrive/Labelling_data"
      ],
      "execution_count": null,
      "outputs": []
    },
    {
      "cell_type": "code",
      "metadata": {
        "id": "MKXIwT29DWmN"
      },
      "source": [
        "\n",
        "# stacked_img = np.stack((s,)*3, axis=-1)\n",
        "# print(stacked_img.shape)"
      ],
      "execution_count": null,
      "outputs": []
    },
    {
      "cell_type": "code",
      "metadata": {
        "id": "3fcgaPgXc1Bx"
      },
      "source": [
        "\"\"\"for i in range(len(image_raw_batch)):\n",
        "  gray = image_raw_batch[i]\n",
        "  # convert 1 channel grayscale to 3 channel RGB grayscale\n",
        "  gray_rgb = np.stack((gray,)*3, axis=-1)\n",
        "  # convert to IMAGE\n",
        "  img = im.fromarray(gray_rgb)\n",
        "  # histogram equalization\n",
        "  img_to_yuv = cv2.cvtColor(gray_rgb,cv2.COLOR_BGR2YUV)\n",
        "  img_to_yuv[:,:,0] = cv2.equalizeHist(img_to_yuv[:,:,0])\n",
        "  hist_equalization_result = cv2.cvtColor(img_to_yuv, cv2.COLOR_YUV2BGR)\n",
        "  x = str(i//10)\n",
        "  y = str(i%10)\n",
        "  np.save(os.path.join('/content/image_raw_batch_histeq_as_npy','image_raw_batch_histeq_0'+x+y),hist_equalization_result)\"\"\""
      ],
      "execution_count": null,
      "outputs": []
    },
    {
      "cell_type": "code",
      "metadata": {
        "id": "xrScz9osvkwR"
      },
      "source": [
        "# !zip -r image_raw_batch_histeq_as_npy.zip '/content/image_raw_batch_histeq_as_npy'"
      ],
      "execution_count": null,
      "outputs": []
    },
    {
      "cell_type": "code",
      "metadata": {
        "id": "XcMEI1imEY5U"
      },
      "source": [
        "# !mv /content/image_raw_batch_histeq_as_npy.zip /content/drive/MyDrive/Labelling_data"
      ],
      "execution_count": null,
      "outputs": []
    },
    {
      "cell_type": "code",
      "metadata": {
        "id": "hEp9ZqiSHHKY"
      },
      "source": [
        "\"\"\"for i in range(100):\n",
        "  x = str(i//10)\n",
        "  y = str(i%10)\n",
        "  array = np.load('/content/image_raw_batch_histeq_as_npy/image_raw_batch_histeq_0'+x+y+'.npy')\n",
        "  img = im.fromarray(array)\n",
        "  img.save('/content/images_raw_batch_histeq/image_raw_batch_histeq_0'+x+y+'.png','PNG')\"\"\""
      ],
      "execution_count": null,
      "outputs": []
    },
    {
      "cell_type": "code",
      "metadata": {
        "id": "C8zEvygCHiIL"
      },
      "source": [
        "#!zip -r images_raw_batch_histeq.zip '/content/images_raw_batch_histeq'"
      ],
      "execution_count": null,
      "outputs": []
    },
    {
      "cell_type": "code",
      "metadata": {
        "id": "1EHS0iSVKPBR"
      },
      "source": [
        "#!mv /content/images_raw_batch_histeq.zip /content/drive/MyDrive/Labelling_data"
      ],
      "execution_count": null,
      "outputs": []
    },
    {
      "cell_type": "code",
      "metadata": {
        "id": "9Z7MhvlGKWJq"
      },
      "source": [
        "A = np.load('/content/image_raw_batch_histeq_as_npy/image_raw_batch_histeq_000.npy')\n",
        "B = np.load('/content/image_raw_batch_histeq_as_npy/image_raw_batch_histeq_001.npy')"
      ],
      "execution_count": null,
      "outputs": []
    },
    {
      "cell_type": "code",
      "metadata": {
        "id": "euX2K_fLF7BB"
      },
      "source": [
        "np.array_equal(A,A), np.array_equal(A,B)"
      ],
      "execution_count": null,
      "outputs": []
    },
    {
      "cell_type": "code",
      "metadata": {
        "id": "MfqGTgqAF9Cc"
      },
      "source": [
        "print(image_raw_ts_batch[99],image_raw_ts_batch[0])"
      ],
      "execution_count": null,
      "outputs": []
    },
    {
      "cell_type": "code",
      "metadata": {
        "id": "2JxTwp3itvOU"
      },
      "source": [
        "for i in image_raw_event_inds_batch[:100]:\n",
        "  print(i)"
      ],
      "execution_count": null,
      "outputs": []
    },
    {
      "cell_type": "code",
      "metadata": {
        "id": "ax4BQp-fHnYP"
      },
      "source": [
        "last = 0\n",
        "for ind in image_raw_event_inds_batch[:1]:\n",
        "  x = '0000000000'\n",
        "  y = str(ind)\n",
        "  file_name = x[:len(x)-len(y)] + y\n",
        "  np.save(os.path.join('/content','event_'+file_name),np.asarray(events[last:ind+1]))\n",
        "  last = ind + 1"
      ],
      "execution_count": null,
      "outputs": []
    },
    {
      "cell_type": "code",
      "metadata": {
        "id": "K6h8f91Jjbk6"
      },
      "source": [
        "#!unzip /content/drive/MyDrive/Labelling_data/events_batch_as_npy.zip"
      ],
      "execution_count": null,
      "outputs": []
    },
    {
      "cell_type": "code",
      "metadata": {
        "id": "3HCZMHUuvYhA"
      },
      "source": [
        "# !mv /content/events_batch_as_npy.zip /content/drive/MyDrive/Labelling_data"
      ],
      "execution_count": null,
      "outputs": []
    },
    {
      "cell_type": "code",
      "metadata": {
        "id": "ih_H_5xOvf_I"
      },
      "source": [
        "A = np.load('/content/content/events_batch_as_npy/event_0000000037.npy')\n",
        "A[:10]"
      ],
      "execution_count": null,
      "outputs": []
    },
    {
      "cell_type": "code",
      "metadata": {
        "id": "6H5J1P9LwN5d"
      },
      "source": [
        "#!unzip /content/drive/MyDrive/Labelling_data/image_raw_batch_seg_as_npy.zip -d '/content/Untitled Folder'"
      ],
      "execution_count": null,
      "outputs": []
    },
    {
      "cell_type": "code",
      "metadata": {
        "id": "KfUrjItfyYul"
      },
      "source": [
        "#!mv '/content/Untitled Folder/content/image_raw_batch_seg_as_npy' /content"
      ],
      "execution_count": null,
      "outputs": []
    },
    {
      "cell_type": "markdown",
      "metadata": {
        "id": "YMHyw6k5DeVe"
      },
      "source": [
        "**Each event is of the form (y_i, x_i, t_i, p_i)**"
      ]
    },
    {
      "cell_type": "code",
      "metadata": {
        "colab": {
          "base_uri": "https://localhost:8080/"
        },
        "id": "avhCbaXcymYu",
        "outputId": "c0744b41-4901-4c0b-935b-03e8536e2a59"
      },
      "source": [
        "I = np.load('/content/image_raw_batch_seg_as_npy/image_raw_batch_seg_as_npy_000.npy')\n",
        "print(I.shape)  # rows, cols \n",
        "imgI = im.fromarray(I)\n",
        "print(imgI.size)  # width, height"
      ],
      "execution_count": null,
      "outputs": [
        {
          "output_type": "stream",
          "text": [
            "(260, 346, 3)\n",
            "(346, 260)\n"
          ],
          "name": "stdout"
        }
      ]
    },
    {
      "cell_type": "code",
      "metadata": {
        "id": "W6doGLpEFyAA"
      },
      "source": [
        "#color_to_object[tuple(I[114][40])]"
      ],
      "execution_count": null,
      "outputs": []
    },
    {
      "cell_type": "code",
      "metadata": {
        "id": "s32Mk8GOzHZ-"
      },
      "source": [
        "object_to_color = {\n",
        "    \"background\"  : (0, 0, 0),\n",
        "    \"person\"      : (192, 128, 128),\n",
        "    \"car\"         : (128, 128, 128)\n",
        "}\n",
        "color_to_object = { v : k for k, v in object_to_color.items()}"
      ],
      "execution_count": null,
      "outputs": []
    },
    {
      "cell_type": "code",
      "metadata": {
        "id": "tIAHZ2NGzPW3"
      },
      "source": [
        "events = np.load('/content/content/events_batch_as_npy/event_0000000037.npy');\n",
        "no_events = len(events)"
      ],
      "execution_count": null,
      "outputs": []
    },
    {
      "cell_type": "code",
      "metadata": {
        "id": "e2aRTkF-BuJF"
      },
      "source": [
        "for event in events:\n",
        " y, x, t, p = event \n",
        " print(color_to_object[tuple(I[int(x)][int(y)])])"
      ],
      "execution_count": null,
      "outputs": []
    },
    {
      "cell_type": "markdown",
      "metadata": {
        "id": "81LnfkLN34OU"
      },
      "source": [
        "#Classification\n",
        "Background -or- Car -or- Person\n"
      ]
    },
    {
      "cell_type": "code",
      "metadata": {
        "id": "FXlboX_XFc4F"
      },
      "source": [
        "def label_data(events):\n",
        "  object_to_color = {\n",
        "    \"background\"  : (0, 0, 0),\n",
        "    \"person\"      : (192, 128, 128),\n",
        "    \"car\"         : (128, 128, 128)\n",
        "  }\n",
        "  color_to_object = { v : k for k, v in object_to_color.items()}\n",
        "  GT = []\n",
        "  for event in events:\n",
        "    y, x, t, p = event\n",
        "    if color_to_object[tuple(I[int(x)][int(y)])] == \"person\":\n",
        "      GT.append(list((0, 0, 1)))\n",
        "      continue\n",
        "    elif color_to_object[tuple(I[int(x)][int(y)])] == \"car\":\n",
        "      GT.append(list((0, 1, 0)))\n",
        "      continue\n",
        "    GT.append(list((1, 0, 0)))\n",
        "  return np.array(GT)"
      ],
      "execution_count": null,
      "outputs": []
    },
    {
      "cell_type": "code",
      "metadata": {
        "id": "i8kMqdws4iXe"
      },
      "source": [
        "print(class_tensor(events))"
      ],
      "execution_count": null,
      "outputs": []
    },
    {
      "cell_type": "code",
      "metadata": {
        "id": "I609mKq747jg"
      },
      "source": [
        "def isWithin(event1, event2, radius, alpha=1, beta=0.000005):\n",
        "    y_i, x_i, t_i, p_i = event1\n",
        "    y_j, x_j, t_j, p_j = event2\n",
        "    t_i = t_i/10000\n",
        "    t_j = t_j/10000\n",
        "    spatial = (x_i - x_j)*(x_i - x_j) + (y_i - y_j)*(y_i - y_j)\n",
        "    temporal = (t_i - t_j)*(t_i - t_j)\n",
        "    if (alpha * spatial) + (beta * temporal * 100000000) >= 0:\n",
        "      #print(math.sqrt(alpha * spatial + beta * temporal))\n",
        "      return math.sqrt(alpha * spatial + beta * temporal) <= radius"
      ],
      "execution_count": null,
      "outputs": []
    },
    {
      "cell_type": "code",
      "metadata": {
        "id": "Rf6-TuNwAanZ"
      },
      "source": [
        "def visualize_graph(adMat):\n",
        "  M = len(adMat)\n",
        "  labeldict = {}\n",
        "  for i in range(M):\n",
        "    labeldict[i] = str(i) + \"+\" if events[i][3] == 1 else str(i) +\"-\"\n",
        "    \n",
        "  G = networkx.from_numpy_matrix(np.array(adMat))\n",
        "\n",
        "  color_map = []\n",
        "  for node in G:\n",
        "    if events[node][3] == -1:\n",
        "      color_map.append(\"red\")\n",
        "    else:\n",
        "      color_map.append(\"green\")\n",
        "  networkx.draw(G,node_color=color_map, labels = labeldict, with_labels=True)"
      ],
      "execution_count": null,
      "outputs": []
    },
    {
      "cell_type": "code",
      "metadata": {
        "id": "rvaA8jAYA74o"
      },
      "source": [
        "def construct_graph(events, R = 10):\n",
        "  M = len(events)\n",
        "  adMat = np.zeros([M, M], dtype=int)\n",
        "  for row in range(M):\n",
        "      for col in range(M):\n",
        "        if row == col:\n",
        "          continue \n",
        "        if isWithin(events[row], events[col], R):\n",
        "          adMat[row][col] = 1\n",
        "          adMat[col][row] = 1\n",
        "  return adMat"
      ],
      "execution_count": null,
      "outputs": []
    },
    {
      "cell_type": "code",
      "metadata": {
        "id": "pE-X7cy8ELjN"
      },
      "source": [
        "def polar_events(events):\n",
        "  return events[:,-1]"
      ],
      "execution_count": null,
      "outputs": []
    },
    {
      "cell_type": "code",
      "metadata": {
        "colab": {
          "base_uri": "https://localhost:8080/"
        },
        "id": "Z6AgT_cKB5dR",
        "outputId": "7914c1da-5b71-4f14-9b85-04502aa56ce7"
      },
      "source": [
        "construct_graph(events)"
      ],
      "execution_count": null,
      "outputs": [
        {
          "output_type": "execute_result",
          "data": {
            "text/plain": [
              "array([[0, 0, 0, ..., 0, 0, 1],\n",
              "       [0, 0, 0, ..., 0, 0, 0],\n",
              "       [0, 0, 0, ..., 0, 0, 0],\n",
              "       ...,\n",
              "       [0, 0, 0, ..., 0, 0, 0],\n",
              "       [0, 0, 0, ..., 0, 0, 0],\n",
              "       [1, 0, 0, ..., 0, 0, 0]])"
            ]
          },
          "metadata": {
            "tags": []
          },
          "execution_count": 72
        }
      ]
    },
    {
      "cell_type": "code",
      "metadata": {
        "colab": {
          "base_uri": "https://localhost:8080/",
          "height": 319
        },
        "id": "TAb_mW-AC0Vq",
        "outputId": "2cd70c42-c629-477e-9509-5bcb97990238"
      },
      "source": [
        "visualize_graph(construct_graph(events))"
      ],
      "execution_count": null,
      "outputs": [
        {
          "output_type": "display_data",
          "data": {
            "image/png": "[encoded data removed]",
            "text/plain": [
              "<Figure size 432x288 with 1 Axes>"
            ]
          },
          "metadata": {
            "tags": []
          }
        }
      ]
    },
    {
      "cell_type": "code",
      "metadata": {
        "colab": {
          "base_uri": "https://localhost:8080/"
        },
        "id": "zPgPyWnGDKzc",
        "outputId": "74398ec6-27fd-4967-b718-5bbfad41d122"
      },
      "source": [
        "label_data(events)"
      ],
      "execution_count": null,
      "outputs": [
        {
          "output_type": "execute_result",
          "data": {
            "text/plain": [
              "array([[1, 0, 0],\n",
              "       [1, 0, 0],\n",
              "       [1, 0, 0],\n",
              "       [1, 0, 0],\n",
              "       [1, 0, 0],\n",
              "       [1, 0, 0],\n",
              "       [1, 0, 0],\n",
              "       [1, 0, 0],\n",
              "       [1, 0, 0],\n",
              "       [1, 0, 0],\n",
              "       [1, 0, 0],\n",
              "       [1, 0, 0],\n",
              "       [1, 0, 0],\n",
              "       [1, 0, 0],\n",
              "       [1, 0, 0],\n",
              "       [1, 0, 0],\n",
              "       [0, 1, 0],\n",
              "       [1, 0, 0],\n",
              "       [1, 0, 0],\n",
              "       [0, 1, 0],\n",
              "       [1, 0, 0],\n",
              "       [1, 0, 0],\n",
              "       [1, 0, 0],\n",
              "       [1, 0, 0],\n",
              "       [1, 0, 0],\n",
              "       [1, 0, 0],\n",
              "       [1, 0, 0],\n",
              "       [1, 0, 0],\n",
              "       [1, 0, 0],\n",
              "       [1, 0, 0],\n",
              "       [1, 0, 0],\n",
              "       [1, 0, 0],\n",
              "       [1, 0, 0],\n",
              "       [1, 0, 0],\n",
              "       [1, 0, 0],\n",
              "       [1, 0, 0],\n",
              "       [1, 0, 0],\n",
              "       [1, 0, 0]])"
            ]
          },
          "metadata": {
            "tags": []
          },
          "execution_count": 68
        }
      ]
    },
    {
      "cell_type": "code",
      "metadata": {
        "colab": {
          "base_uri": "https://localhost:8080/"
        },
        "id": "jYczJuw5EE14",
        "outputId": "7ecb60b1-5a32-4453-fc1a-cbdc5099786e"
      },
      "source": [
        "polar_events(events)"
      ],
      "execution_count": null,
      "outputs": [
        {
          "output_type": "execute_result",
          "data": {
            "text/plain": [
              "array([-1.,  1.,  1.,  1.,  1.,  1.,  1.,  1.,  1.,  1.,  1.,  1.,  1.,\n",
              "        1.,  1.,  1.,  1.,  1.,  1.,  1., -1.,  1.,  1.,  1.,  1.,  1.,\n",
              "        1.,  1.,  1.,  1.,  1.,  1.,  1.,  1.,  1.,  1.,  1., -1.])"
            ]
          },
          "metadata": {
            "tags": []
          },
          "execution_count": 70
        }
      ]
    },
    {
      "cell_type": "code",
      "metadata": {
        "id": "6MIicRElGfPt"
      },
      "source": [
        ""
      ],
      "execution_count": null,
      "outputs": []
    }
  ]
}