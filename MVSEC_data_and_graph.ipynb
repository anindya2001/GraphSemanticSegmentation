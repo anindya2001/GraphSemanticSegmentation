{
  "nbformat": 4,
  "nbformat_minor": 0,
  "metadata": {
    "kernelspec": {
      "display_name": "Python 3",
      "language": "python",
      "name": "python3"
    },
    "language_info": {
      "codemirror_mode": {
        "name": "ipython",
        "version": 3
      },
      "file_extension": ".py",
      "mimetype": "text/x-python",
      "name": "python",
      "nbconvert_exporter": "python",
      "pygments_lexer": "ipython3",
      "version": "3.7.4"
    },
    "colab": {
      "name": "MVSEC_data and graph.ipynb",
      "provenance": []
    }
  },
  "cells": [
    {
      "cell_type": "code",
      "metadata": {
        "colab": {
          "base_uri": "https://localhost:8080/"
        },
        "id": "ueDU1oH0slXI",
        "outputId": "f3d83dba-d9fb-4385-81e3-70d2fbd17be4"
      },
      "source": [
        "from google.colab import drive\n",
        "drive.mount('/content/drive')"
      ],
      "execution_count": 1,
      "outputs": [
        {
          "output_type": "stream",
          "text": [
            "Mounted at /content/drive\n"
          ],
          "name": "stdout"
        }
      ]
    },
    {
      "cell_type": "code",
      "metadata": {
        "colab": {
          "base_uri": "https://localhost:8080/"
        },
        "id": "mOQydYDQsR7z",
        "outputId": "c6e2d893-e9e3-49d3-f027-13993c537b42"
      },
      "source": [
        "import h5py\n",
        "import numpy as np\n",
        "file_name = \"/content/drive/MyDrive/hdf5/outdoor_day/outdoor_day1_data.hdf5\"\n",
        "\n",
        "f = h5py.File(file_name, \"r\")\n",
        "for key in f.keys():\n",
        "    print(key) #Names of the groups in HDF5 file."
      ],
      "execution_count": 3,
      "outputs": [
        {
          "output_type": "stream",
          "text": [
            "davis\n",
            "velodyne\n",
            "visensor\n"
          ],
          "name": "stdout"
        }
      ]
    },
    {
      "cell_type": "code",
      "metadata": {
        "colab": {
          "base_uri": "https://localhost:8080/"
        },
        "id": "iOfvlU7bsR77",
        "outputId": "42b2fe9f-d47e-4db3-db76-16ba67489f53"
      },
      "source": [
        "#Get the HDF5 group\n",
        "group = f['davis']\n",
        "\n",
        "#Checkout what keys are inside that group.\n",
        "for key in group.keys():\n",
        "    print(key)"
      ],
      "execution_count": 4,
      "outputs": [
        {
          "output_type": "stream",
          "text": [
            "left\n",
            "right\n"
          ],
          "name": "stdout"
        }
      ]
    },
    {
      "cell_type": "code",
      "metadata": {
        "id": "7WM8XqoLsR77"
      },
      "source": [
        "subgroup = group['left']\n",
        "required = subgroup['events']"
      ],
      "execution_count": 5,
      "outputs": []
    },
    {
      "cell_type": "code",
      "metadata": {
        "id": "AYYg5TyZsR78"
      },
      "source": [
        "x = []\n",
        "y = []\n",
        "t = []\n",
        "p = []\n",
        "for i in required[:1000]:\n",
        "    x.append(i[0])\n",
        "    y.append(i[1])\n",
        "    t.append(i[2])\n",
        "    p.append(i[3])"
      ],
      "execution_count": 6,
      "outputs": []
    },
    {
      "cell_type": "code",
      "metadata": {
        "id": "pZXlVmvKsR78"
      },
      "source": [
        "x = np.asarray(x)\n",
        "y = np.asarray(y)\n",
        "t = np.asarray(t)\n",
        "p = np.asarray(p)"
      ],
      "execution_count": 7,
      "outputs": []
    },
    {
      "cell_type": "code",
      "metadata": {
        "colab": {
          "base_uri": "https://localhost:8080/"
        },
        "id": "Nt8H9jUIsR78",
        "outputId": "fc082f24-e8a1-48b3-859a-0c3fa3f936a3"
      },
      "source": [
        "len(x), len(y), len(t), len(p)"
      ],
      "execution_count": 8,
      "outputs": [
        {
          "output_type": "execute_result",
          "data": {
            "text/plain": [
              "(1000, 1000, 1000, 1000)"
            ]
          },
          "metadata": {
            "tags": []
          },
          "execution_count": 8
        }
      ]
    },
    {
      "cell_type": "code",
      "metadata": {
        "id": "w3PDy3btsR79"
      },
      "source": [
        "np.save('x_1000',x)\n",
        "np.save('y_1000',y)\n",
        "np.save('t_1000',t)\n",
        "np.save('p_1000',p)"
      ],
      "execution_count": 9,
      "outputs": []
    },
    {
      "cell_type": "code",
      "metadata": {
        "id": "c16Zi3C6sR79"
      },
      "source": [
        "np.save('event_5000',np.asarray(required[4000:5000]))"
      ],
      "execution_count": 10,
      "outputs": []
    },
    {
      "cell_type": "code",
      "metadata": {
        "id": "mA0HdvIesR79"
      },
      "source": [
        "event = np.load('/content/drive/MyDrive/MVSEC data/events/event_1000.npy')"
      ],
      "execution_count": 12,
      "outputs": []
    },
    {
      "cell_type": "code",
      "metadata": {
        "colab": {
          "base_uri": "https://localhost:8080/"
        },
        "id": "CbGuy14nsR7-",
        "outputId": "19569389-78d7-46c7-bf05-30b2bdd8eb9e"
      },
      "source": [
        "event"
      ],
      "execution_count": 13,
      "outputs": [
        {
          "output_type": "execute_result",
          "data": {
            "text/plain": [
              "array([[ 1.4300000e+02,  5.4000000e+01,  1.5061179e+09,  1.0000000e+00],\n",
              "       [ 3.0000000e+00,  1.2900000e+02,  1.5061179e+09, -1.0000000e+00],\n",
              "       [ 1.0600000e+02,  5.3000000e+01,  1.5061179e+09,  1.0000000e+00],\n",
              "       ...,\n",
              "       [ 3.3800000e+02,  2.2100000e+02,  1.5061179e+09,  1.0000000e+00],\n",
              "       [ 2.2900000e+02,  1.8400000e+02,  1.5061179e+09,  1.0000000e+00],\n",
              "       [ 1.2000000e+02,  2.0500000e+02,  1.5061179e+09,  1.0000000e+00]])"
            ]
          },
          "metadata": {
            "tags": []
          },
          "execution_count": 13
        }
      ]
    },
    {
      "cell_type": "code",
      "metadata": {
        "colab": {
          "base_uri": "https://localhost:8080/",
          "height": 1000
        },
        "id": "cCtyZC5nuBAU",
        "outputId": "50393c6a-ffd4-4af5-bbd7-7b60360b910b"
      },
      "source": [
        "import numpy as np\r\n",
        "import math\r\n",
        "import scipy.io\r\n",
        "import random\r\n",
        "import networkx\r\n",
        "\r\n",
        "M = 8\r\n",
        "R = 150\r\n",
        "class Event:\r\n",
        "    def __init__(self, x, y, t, p):\r\n",
        "        self.x = x\r\n",
        "        self.y = y\r\n",
        "        self.t = t\r\n",
        "        self.p = p\r\n",
        "\r\n",
        "def isWithin(event1, event2, radius, alpha=1, beta=0.000005):\r\n",
        "    x_i = event1.x\r\n",
        "    x_j = event2.x\r\n",
        "    y_i = event1.y\r\n",
        "    y_j = event2.y\r\n",
        "    t_i = event1.t/10000\r\n",
        "    t_j = event2.t/10000\r\n",
        "    spatial = (x_i - x_j)*(x_i - x_j) + (y_i - y_j)*(y_i - y_j)\r\n",
        "    temporal = (t_i - t_j)*(t_i - t_j)\r\n",
        "    if (alpha * spatial) + (beta * temporal * 100000000) >= 0:\r\n",
        "      print(math.sqrt(alpha * spatial + beta * temporal))\r\n",
        "      return math.sqrt(alpha * spatial + beta * temporal) <= radius\r\n",
        "\r\n",
        "\r\n",
        "def main():\r\n",
        "    data = np.load('/content/drive/MyDrive/MVSEC data/events/event_1000.npy')  # first 1000 events\r\n",
        "    event = []\r\n",
        "    for each in data:\r\n",
        "        event.append(Event(each[0], each[1], each[2], each[3]))\r\n",
        "\r\n",
        "    # shuffling the list and selecting the first M events i.e., random sampling\r\n",
        "    np.random.seed(53)\r\n",
        "    np.random.shuffle(event)\r\n",
        "    selected_event = event[:M]\r\n",
        "\r\n",
        "    for e in selected_event:\r\n",
        "      print(e.x, e.y, e.t, e.p)\r\n",
        "    \r\n",
        "    adMat = np.zeros([M, M], dtype=int)\r\n",
        "    print('Initial\\n', adMat)\r\n",
        "    for row in range(M):\r\n",
        "        for col in adMat[row]:\r\n",
        "            if row == col:\r\n",
        "                continue \r\n",
        "            if isWithin(selected_event[row], selected_event[col], R):\r\n",
        "                adMat[row][col] = 1\r\n",
        "                adMat[col][row] = 1\r\n",
        "    print('Final\\n', adMat)\r\n",
        "    G = networkx.from_numpy_matrix(np.array(adMat))\r\n",
        "    networkx.draw(G, with_labels=True)\r\n",
        "        \r\n",
        "if __name__ == \"__main__\":\r\n",
        "    main()"
      ],
      "execution_count": 15,
      "outputs": [
        {
          "output_type": "stream",
          "text": [
            "84.0 163.0 1506117897.3817575 1.0\n",
            "249.0 246.0 1506117897.3386674 1.0\n",
            "45.0 34.0 1506117897.3715634 1.0\n",
            "67.0 124.0 1506117897.4291666 1.0\n",
            "40.0 210.0 1506117897.2218544 1.0\n",
            "150.0 60.0 1506117897.3814425 1.0\n",
            "257.0 158.0 1506117897.2897274 1.0\n",
            "146.0 73.0 1506117897.3918524 1.0\n",
            "Initial\n",
            " [[0 0 0 0 0 0 0 0]\n",
            " [0 0 0 0 0 0 0 0]\n",
            " [0 0 0 0 0 0 0 0]\n",
            " [0 0 0 0 0 0 0 0]\n",
            " [0 0 0 0 0 0 0 0]\n",
            " [0 0 0 0 0 0 0 0]\n",
            " [0 0 0 0 0 0 0 0]\n",
            " [0 0 0 0 0 0 0 0]]\n",
            "184.69975636150687\n",
            "184.69975636150687\n",
            "184.69975636150687\n",
            "184.69975636150687\n",
            "184.69975636150687\n",
            "184.69975636150687\n",
            "184.69975636150687\n",
            "184.69975636150687\n",
            "134.7664646712972\n",
            "134.7664646712972\n",
            "134.7664646712972\n",
            "134.7664646712972\n",
            "134.7664646712972\n",
            "134.7664646712972\n",
            "134.7664646712972\n",
            "134.7664646712972\n",
            "42.5440947723653\n",
            "42.5440947723653\n",
            "42.5440947723653\n",
            "42.5440947723653\n",
            "42.5440947723653\n",
            "42.5440947723653\n",
            "42.5440947723653\n",
            "42.5440947723653\n",
            "64.38167441127949\n",
            "64.38167441127949\n",
            "64.38167441127949\n",
            "64.38167441127949\n",
            "64.38167441127949\n",
            "64.38167441127949\n",
            "64.38167441127949\n",
            "64.38167441127949\n",
            "122.3315167894194\n",
            "122.3315167894194\n",
            "122.3315167894194\n",
            "122.3315167894194\n",
            "122.3315167894194\n",
            "122.3315167894194\n",
            "122.3315167894194\n",
            "122.3315167894194\n",
            "173.07223925286226\n",
            "173.07223925286226\n",
            "173.07223925286226\n",
            "173.07223925286226\n",
            "173.07223925286226\n",
            "173.07223925286226\n",
            "173.07223925286226\n",
            "173.07223925286226\n",
            "109.288608738514\n",
            "109.288608738514\n",
            "109.288608738514\n",
            "109.288608738514\n",
            "109.288608738514\n",
            "109.288608738514\n",
            "109.288608738514\n",
            "109.288608738514\n",
            "Final\n",
            " [[0 0 1 1 1 1 0 1]\n",
            " [0 0 0 0 0 0 0 0]\n",
            " [1 0 0 0 0 0 0 0]\n",
            " [1 0 0 0 0 0 0 0]\n",
            " [1 0 0 0 0 0 0 0]\n",
            " [1 0 0 0 0 0 0 0]\n",
            " [0 0 0 0 0 0 0 0]\n",
            " [1 0 0 0 0 0 0 0]]\n"
          ],
          "name": "stdout"
        },
        {
          "output_type": "display_data",
          "data": {
            "image/png": "[encoded data removed]",
            "text/plain": [
              "<Figure size 432x288 with 1 Axes>"
            ]
          },
          "metadata": {
            "tags": []
          }
        }
      ]
    },
    {
      "cell_type": "code",
      "metadata": {
        "id": "IYa35RzVsR7-"
      },
      "source": [
        ""
      ],
      "execution_count": null,
      "outputs": []
    }
  ]
}