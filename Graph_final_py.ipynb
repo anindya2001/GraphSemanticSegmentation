{
  "nbformat": 4,
  "nbformat_minor": 0,
  "metadata": {
    "colab": {
      "name": "Graph_final.py",
      "provenance": [],
      "authorship_tag": "ABX9TyNo9AAi2SmHiO0nFUjWPMig",
      "include_colab_link": true
    },
    "kernelspec": {
      "name": "python3",
      "display_name": "Python 3"
    }
  },
  "cells": [
    {
      "cell_type": "markdown",
      "metadata": {
        "id": "view-in-github",
        "colab_type": "text"
      },
      "source": [
        "<a href=\"https://colab.research.google.com/github/anindya2001/GraphSemanticSegmentation/blob/main/Graph_final_py.ipynb\" target=\"_parent\"><img src=\"https://colab.research.google.com/assets/colab-badge.svg\" alt=\"Open In Colab\"/></a>"
      ]
    },
    {
      "cell_type": "code",
      "metadata": {
        "colab": {
          "base_uri": "https://localhost:8080/"
        },
        "id": "jIBAUSfmrzR8",
        "outputId": "37416dba-4cb7-4256-af56-0e147a1c35b6"
      },
      "source": [
        "import numpy as np\r\n",
        "import math\r\n",
        "import scipy.io\r\n",
        "import random\r\n",
        "\r\n",
        "M = 8\r\n",
        "R = 78\r\n",
        "class Event:\r\n",
        "    def __init__(self, x, y, t, p):\r\n",
        "        self.x = x\r\n",
        "        self.y = y\r\n",
        "        self.t = t\r\n",
        "        self.p = p\r\n",
        "\r\n",
        "def isWithin(event1, event2, radius, alpha=1, beta=0.000005):\r\n",
        "    x_i = event1.x\r\n",
        "    x_j = event2.x\r\n",
        "    y_i = event1.y\r\n",
        "    y_j = event2.y\r\n",
        "    t_i = event1.t/1000\r\n",
        "    t_j = event2.t/1000\r\n",
        "    spatial = (x_i - x_j)*(x_i - x_j) + (y_i - y_j)*(y_i - y_j)\r\n",
        "    temporal = (t_i - t_j)*(t_i - t_j)\r\n",
        "    if (alpha * spatial) + (beta * temporal * 1000000) >= 0:\r\n",
        "      #print(math.sqrt(alpha * spatial + beta * temporal))\r\n",
        "      return math.sqrt(alpha * spatial + beta * temporal) <= radius\r\n",
        "\r\n",
        "\r\n",
        "def main():\r\n",
        "    data = scipy.io.loadmat('/d_0713.mat')\r\n",
        "    event = []  # M objects of Event class\r\n",
        "\r\n",
        "    # appending only non-zero events in list\r\n",
        "    zero_polarity_count = 0\r\n",
        "    nonzero_polarity_count = 0\r\n",
        "    neg = 0\r\n",
        "    for i in range(len(data['x'])):\r\n",
        "      if data['pol'][i]==-1:\r\n",
        "        neg += 1\r\n",
        "      if data['pol'][i]==0:\r\n",
        "        zero_polarity_count += 1\r\n",
        "      else:\r\n",
        "        nonzero_polarity_count += 1\r\n",
        "        event.append(Event(data['x'][i], data['y'][i], data['ts'][i], data['pol'][i]))\r\n",
        "    print(neg)\r\n",
        "    #print('Zeroes', zero_polarity_count)\r\n",
        "    #print('Non-zeroes', nonzero_polarity_count)\r\n",
        "\r\n",
        "    # shuffling the list and selecting the first M events i.e., random sampling\r\n",
        "    random.shuffle(event)\r\n",
        "    selected_event = event[:M]\r\n",
        "\r\n",
        "    for e in selected_event:\r\n",
        "      print(e.x, e.y, e.t, e.p)\r\n",
        "    \r\n",
        "    adMat = np.zeros([M, M], dtype=int)\r\n",
        "    print('Initial\\n', adMat)\r\n",
        "    for row in range(M):\r\n",
        "        for col in adMat[row]:\r\n",
        "            if row == col:\r\n",
        "              continue \r\n",
        "            if isWithin(event[row], event[col], R):\r\n",
        "                adMat[row][col] = 1\r\n",
        "                adMat[col][row] = 1\r\n",
        "            else:\r\n",
        "                adMat[row][col] = 0\r\n",
        "                adMat[col][row] = 0\r\n",
        "    print('Final\\n', adMat)\r\n",
        "        \r\n",
        "if __name__ == \"__main__\":\r\n",
        "    main()"
      ],
      "execution_count": 42,
      "outputs": [
        {
          "output_type": "stream",
          "text": [
            "0\n",
            "[113] [97] [64367] [1]\n",
            "[143] [20] [16977] [1]\n",
            "[131] [100] [84002] [1]\n",
            "[110] [144] [38181] [1]\n",
            "[142] [44] [28701] [1]\n",
            "[144] [94] [41545] [1]\n",
            "[160] [86] [17764] [1]\n",
            "[140] [18] [70798] [1]\n",
            "Initial\n",
            " [[0 0 0 0 0 0 0 0]\n",
            " [0 0 0 0 0 0 0 0]\n",
            " [0 0 0 0 0 0 0 0]\n",
            " [0 0 0 0 0 0 0 0]\n",
            " [0 0 0 0 0 0 0 0]\n",
            " [0 0 0 0 0 0 0 0]\n",
            " [0 0 0 0 0 0 0 0]\n",
            " [0 0 0 0 0 0 0 0]]\n",
            "Final\n",
            " [[0 1 1 1 1 1 1 1]\n",
            " [1 0 0 0 0 0 0 0]\n",
            " [1 0 0 0 0 0 0 0]\n",
            " [1 0 0 0 0 0 0 0]\n",
            " [1 0 0 0 0 0 0 0]\n",
            " [1 0 0 0 0 0 0 0]\n",
            " [1 0 0 0 0 0 0 0]\n",
            " [1 0 0 0 0 0 0 0]]\n"
          ],
          "name": "stdout"
        }
      ]
    },
    {
      "cell_type": "code",
      "metadata": {
        "colab": {
          "base_uri": "https://localhost:8080/",
          "height": 319
        },
        "id": "8eAQKGHI1agg",
        "outputId": "f12cf78f-0080-4bc4-ee22-c848a06d0b47"
      },
      "source": [
        "import networkx as nx \r\n",
        "import numpy as np \r\n",
        "  \r\n",
        "A  =  [[0, 1, 1, 1, 1, 1, 1, 1],\r\n",
        " [1, 0, 0, 0, 0, 0, 0, 0],\r\n",
        " [1, 0, 0, 0, 0, 0, 0, 0],\r\n",
        " [1, 0, 0, 0, 0, 0, 0, 0],\r\n",
        " [1, 0, 0, 0, 0, 0, 0, 0],\r\n",
        " [1, 0, 0, 0, 0, 0, 0, 0],\r\n",
        " [1, 0, 0, 0, 0, 0, 0, 0],\r\n",
        " [1, 0, 0, 0, 0, 0, 0, 0]]\r\n",
        " \r\n",
        "G = nx.from_numpy_matrix(np.array(A))  \r\n",
        "nx.draw(G, with_labels=1)"
      ],
      "execution_count": 43,
      "outputs": [
        {
          "output_type": "display_data",
          "data": {
            "image/png": "[encoded data removed]",
            "text/plain": [
              "<Figure size 432x288 with 1 Axes>"
            ]
          },
          "metadata": {
            "tags": []
          }
        }
      ]
    }
  ]
}