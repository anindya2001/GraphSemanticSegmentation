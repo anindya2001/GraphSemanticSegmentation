{
  "nbformat": 4,
  "nbformat_minor": 0,
  "metadata": {
    "colab": {
      "name": "Graph_final",
      "provenance": [],
      "authorship_tag": "ABX9TyP7qj8OUAa5kyD9E2yumMde",
      "include_colab_link": true
    },
    "kernelspec": {
      "name": "python3",
      "display_name": "Python 3"
    }
  },
  "cells": [
    {
      "cell_type": "markdown",
      "metadata": {
        "id": "view-in-github",
        "colab_type": "text"
      },
      "source": [
        "<a href=\"https://colab.research.google.com/github/anindya2001/GraphSemanticSegmentation/blob/main/Graph_final.ipynb\" target=\"_parent\"><img src=\"https://colab.research.google.com/assets/colab-badge.svg\" alt=\"Open In Colab\"/></a>"
      ]
    },
    {
      "cell_type": "code",
      "metadata": {
        "colab": {
          "base_uri": "https://localhost:8080/",
          "height": 756
        },
        "id": "jIBAUSfmrzR8",
        "outputId": "165f245b-414a-4240-ec3c-95c6abbe9605"
      },
      "source": [
        "import numpy as np\r\n",
        "import math\r\n",
        "import scipy.io\r\n",
        "import random\r\n",
        "import networkx\r\n",
        "\r\n",
        "M = 8\r\n",
        "R = 10\r\n",
        "class Event:\r\n",
        "    def __init__(self, x, y, t, p):\r\n",
        "        self.x = x\r\n",
        "        self.y = y\r\n",
        "        self.t = t\r\n",
        "        self.p = p\r\n",
        "\r\n",
        "def isWithin(event1, event2, radius, alpha=1, beta=0.000005):\r\n",
        "    x_i = event1.x\r\n",
        "    x_j = event2.x\r\n",
        "    y_i = event1.y\r\n",
        "    y_j = event2.y\r\n",
        "    t_i = event1.t/1000\r\n",
        "    t_j = event2.t/1000\r\n",
        "    spatial = (x_i - x_j)*(x_i - x_j) + (y_i - y_j)*(y_i - y_j)\r\n",
        "    temporal = (t_i - t_j)*(t_i - t_j)\r\n",
        "    if (alpha * spatial) + (beta * temporal * 1000000) >= 0:\r\n",
        "      #print(math.sqrt(alpha * spatial + beta * temporal))\r\n",
        "      return math.sqrt(alpha * spatial + beta * temporal) <= radius\r\n",
        "\r\n",
        "\r\n",
        "def main():\r\n",
        "    data = scipy.io.loadmat('/d_0390.mat')\r\n",
        "    event = []  # M objects of Event class\r\n",
        "\r\n",
        "    # appending only non-zero events in list\r\n",
        "    zero_polarity_count = 0\r\n",
        "    nonzero_polarity_count = 0\r\n",
        "    neg = 0\r\n",
        "    for i in range(len(data['x'])):\r\n",
        "      if data['pol'][i]==-1:\r\n",
        "        neg += 1\r\n",
        "      if data['pol'][i]==0:\r\n",
        "        zero_polarity_count += 1\r\n",
        "      else:\r\n",
        "        nonzero_polarity_count += 1\r\n",
        "        event.append(Event(data['x'][i], data['y'][i], data['ts'][i], data['pol'][i]))\r\n",
        "    #print(neg)\r\n",
        "    #print('Zeroes', zero_polarity_count)\r\n",
        "    #print('Non-zeroes', nonzero_polarity_count)\r\n",
        "\r\n",
        "    # shuffling the list and selecting the first M events i.e., random sampling\r\n",
        "    random.shuffle(event)\r\n",
        "    selected_event = event[:M]\r\n",
        "\r\n",
        "    for e in selected_event:\r\n",
        "      print(e.x, e.y, e.t, e.p)\r\n",
        "    \r\n",
        "    adMat = np.zeros([M, M], dtype=int)\r\n",
        "    print('Initial\\n', adMat)\r\n",
        "    for row in range(M):\r\n",
        "        for col in adMat[row]:\r\n",
        "            if row == col:\r\n",
        "              continue \r\n",
        "            if isWithin(selected_event[row], selected_event[col], R):\r\n",
        "                adMat[row][col] = 1\r\n",
        "                adMat[col][row] = 1\r\n",
        "    print('Final\\n', adMat)\r\n",
        "    G = networkx.from_numpy_matrix(np.array(adMat))\r\n",
        "    networkx.draw(G, with_labels=True)\r\n",
        "        \r\n",
        "if __name__ == \"__main__\":\r\n",
        "    main()"
      ],
      "execution_count": 4,
      "outputs": [
        {
          "output_type": "stream",
          "text": [
            "[133] [137] [57019] [1]\n",
            "[132] [19] [73456] [1]\n",
            "[146] [13] [51277] [1]\n",
            "[175] [18] [69883] [1]\n",
            "[104] [73] [28115] [1]\n",
            "[102] [69] [28116] [1]\n",
            "[231] [40] [1519] [1]\n",
            "[132] [8] [10321] [1]\n",
            "Initial\n",
            " [[0 0 0 0 0 0 0 0]\n",
            " [0 0 0 0 0 0 0 0]\n",
            " [0 0 0 0 0 0 0 0]\n",
            " [0 0 0 0 0 0 0 0]\n",
            " [0 0 0 0 0 0 0 0]\n",
            " [0 0 0 0 0 0 0 0]\n",
            " [0 0 0 0 0 0 0 0]\n",
            " [0 0 0 0 0 0 0 0]]\n",
            "Final\n",
            " [[0 0 0 1 1 0 1 1]\n",
            " [0 0 0 0 0 0 0 0]\n",
            " [0 0 0 0 0 0 0 0]\n",
            " [1 0 0 0 0 0 0 0]\n",
            " [1 0 0 0 0 0 0 0]\n",
            " [0 0 0 0 0 0 0 0]\n",
            " [1 0 0 0 0 0 0 0]\n",
            " [1 0 0 0 0 0 0 0]]\n"
          ],
          "name": "stdout"
        },
        {
          "output_type": "display_data",
          "data": {
            "image/png": "[encoded data removed]",
            "text/plain": [
              "<Figure size 432x288 with 1 Axes>"
            ]
          },
          "metadata": {
            "tags": []
          }
        }
      ]
    }
  ]
}