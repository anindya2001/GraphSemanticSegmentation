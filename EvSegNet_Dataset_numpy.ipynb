{
  "nbformat": 4,
  "nbformat_minor": 0,
  "metadata": {
    "colab": {
      "name": "EvSegNet Dataset numpy ",
      "provenance": [],
      "mount_file_id": "1UmNAcBhai-anMoqdSyaIJshAezOkQLRE",
      "authorship_tag": "ABX9TyM6eaUakA6m3cgbKEvQe5sC",
      "include_colab_link": true
    },
    "kernelspec": {
      "name": "python3",
      "display_name": "Python 3"
    }
  },
  "cells": [
    {
      "cell_type": "markdown",
      "metadata": {
        "id": "view-in-github",
        "colab_type": "text"
      },
      "source": [
        "<a href=\"https://colab.research.google.com/github/anindya2001/GraphSemanticSegmentation/blob/main/EvSegNet_Dataset_numpy.ipynb\" target=\"_parent\"><img src=\"https://colab.research.google.com/assets/colab-badge.svg\" alt=\"Open In Colab\"/></a>"
      ]
    },
    {
      "cell_type": "code",
      "metadata": {
        "colab": {
          "base_uri": "https://localhost:8080/"
        },
        "id": "FMT51MyVMzkb",
        "outputId": "0642e3eb-46bd-4ae6-9263-ea7e59b39d74"
      },
      "source": [
        "import numpy as np\r\n",
        "np.load('/content/drive/MyDrive/EVSEGNET DATASET SAMPLES/Others/rec1487782014_export_3843.npy')"
      ],
      "execution_count": 13,
      "outputs": [
        {
          "output_type": "execute_result",
          "data": {
            "text/plain": [
              "array([[[-1.        , -1.        ,  0.        ,  0.        ,\n",
              "          0.        ,  0.        ],\n",
              "        [-0.88235295, -1.        , -0.23672   ,  0.        ,\n",
              "          0.        ,  0.        ],\n",
              "        [-1.        , -1.        ,  0.        ,  0.        ,\n",
              "          0.        ,  0.        ],\n",
              "        ...,\n",
              "        [-1.        , -1.        ,  0.        ,  0.        ,\n",
              "          0.        ,  0.        ],\n",
              "        [-1.        , -1.        ,  0.        ,  0.        ,\n",
              "          0.        ,  0.        ],\n",
              "        [-1.        , -1.        ,  0.        ,  0.        ,\n",
              "          0.        ,  0.        ]],\n",
              "\n",
              "       [[-1.        , -1.        ,  0.        ,  0.        ,\n",
              "          0.        ,  0.        ],\n",
              "        [-1.        , -1.        ,  0.        ,  0.        ,\n",
              "          0.        ,  0.        ],\n",
              "        [-1.        , -1.        ,  0.        ,  0.        ,\n",
              "          0.        ,  0.        ],\n",
              "        ...,\n",
              "        [-1.        , -1.        ,  0.        ,  0.        ,\n",
              "          0.        ,  0.        ],\n",
              "        [-1.        , -1.        ,  0.        ,  0.        ,\n",
              "          0.        ,  0.        ],\n",
              "        [-1.        , -1.        ,  0.        ,  0.        ,\n",
              "          0.        ,  0.        ]],\n",
              "\n",
              "       [[-1.        , -1.        ,  0.        ,  0.        ,\n",
              "          0.        ,  0.        ],\n",
              "        [-0.88235295, -1.        ,  0.5602    ,  0.        ,\n",
              "          0.        ,  0.        ],\n",
              "        [-1.        , -1.        ,  0.        ,  0.        ,\n",
              "          0.        ,  0.        ],\n",
              "        ...,\n",
              "        [-1.        , -1.        ,  0.        ,  0.        ,\n",
              "          0.        ,  0.        ],\n",
              "        [-1.        , -1.        ,  0.        ,  0.        ,\n",
              "          0.        ,  0.        ],\n",
              "        [-1.        , -1.        ,  0.        ,  0.        ,\n",
              "          0.        ,  0.        ]],\n",
              "\n",
              "       ...,\n",
              "\n",
              "       [[-1.        , -1.        ,  0.        ,  0.        ,\n",
              "          0.        ,  0.        ],\n",
              "        [-1.        , -1.        ,  0.        ,  0.        ,\n",
              "          0.        ,  0.        ],\n",
              "        [-1.        , -1.        ,  0.        ,  0.        ,\n",
              "          0.        ,  0.        ],\n",
              "        ...,\n",
              "        [-1.        , -1.        ,  0.        ,  0.        ,\n",
              "          0.        ,  0.        ],\n",
              "        [-1.        , -1.        ,  0.        ,  0.        ,\n",
              "          0.        ,  0.        ],\n",
              "        [-1.        , -1.        ,  0.        ,  0.        ,\n",
              "          0.        ,  0.        ]],\n",
              "\n",
              "       [[-1.        , -1.        ,  0.        ,  0.        ,\n",
              "          0.        ,  0.        ],\n",
              "        [-1.        , -1.        ,  0.        ,  0.        ,\n",
              "          0.        ,  0.        ],\n",
              "        [-1.        , -1.        ,  0.        ,  0.        ,\n",
              "          0.        ,  0.        ],\n",
              "        ...,\n",
              "        [-1.        , -1.        ,  0.        ,  0.        ,\n",
              "          0.        ,  0.        ],\n",
              "        [-1.        , -1.        ,  0.        ,  0.        ,\n",
              "          0.        ,  0.        ],\n",
              "        [-1.        , -1.        ,  0.        ,  0.        ,\n",
              "          0.        ,  0.        ]],\n",
              "\n",
              "       [[-1.        , -1.        ,  0.        ,  0.        ,\n",
              "          0.        ,  0.        ],\n",
              "        [-1.        , -1.        ,  0.        ,  0.        ,\n",
              "          0.        ,  0.        ],\n",
              "        [-1.        , -1.        ,  0.        ,  0.        ,\n",
              "          0.        ,  0.        ],\n",
              "        ...,\n",
              "        [-1.        , -1.        ,  0.        ,  0.        ,\n",
              "          0.        ,  0.        ],\n",
              "        [-1.        , -1.        ,  0.        ,  0.        ,\n",
              "          0.        ,  0.        ],\n",
              "        [-1.        , -1.        ,  0.        ,  0.        ,\n",
              "          0.        ,  0.        ]]], dtype=float32)"
            ]
          },
          "metadata": {
            "tags": []
          },
          "execution_count": 13
        }
      ]
    }
  ]
}