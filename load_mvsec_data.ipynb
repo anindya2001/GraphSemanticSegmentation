{
  "nbformat": 4,
  "nbformat_minor": 0,
  "metadata": {
    "colab": {
      "name": "load_mvsec_data",
      "provenance": []
    },
    "kernelspec": {
      "name": "python3",
      "display_name": "Python 3"
    }
  },
  "cells": [
    {
      "cell_type": "code",
      "metadata": {
        "id": "fM6LmAcqkoB6",
        "colab": {
          "base_uri": "https://localhost:8080/"
        },
        "outputId": "4e59749c-a7ae-44b7-c9eb-124b802e8287"
      },
      "source": [
        "from google.colab import drive\r\n",
        "drive.mount('/content/drive')"
      ],
      "execution_count": 1,
      "outputs": [
        {
          "output_type": "stream",
          "text": [
            "Drive already mounted at /content/drive; to attempt to forcibly remount, call drive.mount(\"/content/drive\", force_remount=True).\n"
          ],
          "name": "stdout"
        }
      ]
    },
    {
      "cell_type": "code",
      "metadata": {
        "colab": {
          "base_uri": "https://localhost:8080/"
        },
        "id": "IwlrfENUCvw3",
        "outputId": "a73113d7-6d2c-4f8c-92dc-e0d65f3fea6c"
      },
      "source": [
        "ls '/content/drive/MyDrive/hdf5/outdoor_day'"
      ],
      "execution_count": 2,
      "outputs": [
        {
          "output_type": "stream",
          "text": [
            "outdoor_day1_data.hdf5  outdoor_day2_data.hdf5  outdoor_day_calib.zip\n",
            "outdoor_day1_gt.hdf5    outdoor_day2_gt.hdf5\n"
          ],
          "name": "stdout"
        }
      ]
    },
    {
      "cell_type": "code",
      "metadata": {
        "colab": {
          "base_uri": "https://localhost:8080/"
        },
        "id": "jRUy6G3GCwlI",
        "outputId": "a50d38f1-4378-4552-b4bb-599dff502e9a"
      },
      "source": [
        "import h5py\r\n",
        "\r\n",
        "file_name = \"/content/drive/MyDrive/hdf5/outdoor_day/outdoor_day1_data.hdf5\"\r\n",
        "\r\n",
        "f = h5py.File(file_name, \"r\")\r\n",
        "for key in f.keys():\r\n",
        "    print(key) #Names of the groups in HDF5 file."
      ],
      "execution_count": 3,
      "outputs": [
        {
          "output_type": "stream",
          "text": [
            "davis\n",
            "velodyne\n",
            "visensor\n"
          ],
          "name": "stdout"
        }
      ]
    },
    {
      "cell_type": "code",
      "metadata": {
        "id": "Q-AP3dlbDRvU",
        "colab": {
          "base_uri": "https://localhost:8080/"
        },
        "outputId": "141e68e9-95d6-4a98-a379-0166ed95df06"
      },
      "source": [
        "#Get the HDF5 group\r\n",
        "group = f['davis']\r\n",
        "\r\n",
        "#Checkout what keys are inside that group.\r\n",
        "for key in group.keys():\r\n",
        "    print(key)"
      ],
      "execution_count": 4,
      "outputs": [
        {
          "output_type": "stream",
          "text": [
            "left\n",
            "right\n"
          ],
          "name": "stdout"
        }
      ]
    },
    {
      "cell_type": "code",
      "metadata": {
        "colab": {
          "base_uri": "https://localhost:8080/"
        },
        "id": "BDlIeddFa6NU",
        "outputId": "06fee0ac-c06c-468a-8791-bd3b10188fa7"
      },
      "source": [
        "subgroup = group['left']\r\n",
        "subgroup['events'][6]"
      ],
      "execution_count": 5,
      "outputs": [
        {
          "output_type": "execute_result",
          "data": {
            "text/plain": [
              "array([2.7000000e+01, 4.7000000e+01, 1.5061179e+09, 1.0000000e+00])"
            ]
          },
          "metadata": {
            "tags": []
          },
          "execution_count": 5
        }
      ]
    },
    {
      "cell_type": "code",
      "metadata": {
        "id": "DtcbKGwzckJl",
        "colab": {
          "base_uri": "https://localhost:8080/"
        },
        "outputId": "440b2968-85e9-4ad5-f7b7-1820369f09b8"
      },
      "source": [
        "subgroup = group['left']\r\n",
        "subgroup['events']"
      ],
      "execution_count": 6,
      "outputs": [
        {
          "output_type": "execute_result",
          "data": {
            "text/plain": [
              "<HDF5 dataset \"events\": shape (105874257, 4), type \"<f8\">"
            ]
          },
          "metadata": {
            "tags": []
          },
          "execution_count": 6
        }
      ]
    },
    {
      "cell_type": "code",
      "metadata": {
        "id": "8sOEtjamycm6"
      },
      "source": [
        "import sys\r\n",
        "import numpy\r\n",
        "numpy.set_printoptions(threshold=sys.maxsize)"
      ],
      "execution_count": 9,
      "outputs": []
    },
    {
      "cell_type": "code",
      "metadata": {
        "colab": {
          "base_uri": "https://localhost:8080/"
        },
        "id": "KNYVROvDyL2g",
        "outputId": "6638077c-b18e-4ca4-b3aa-d0ee2315a0c3"
      },
      "source": [
        "print(subgroup['events'].value)"
      ],
      "execution_count": 7,
      "outputs": [
        {
          "output_type": "stream",
          "text": [
            "[[ 1.43000000e+02  5.40000000e+01  1.50611790e+09  1.00000000e+00]\n",
            " [ 3.00000000e+00  1.29000000e+02  1.50611790e+09 -1.00000000e+00]\n",
            " [ 1.06000000e+02  5.30000000e+01  1.50611790e+09  1.00000000e+00]\n",
            " ...\n",
            " [ 5.00000000e+01  8.70000000e+01  1.50611816e+09  1.00000000e+00]\n",
            " [ 6.90000000e+01  1.24000000e+02  1.50611816e+09 -1.00000000e+00]\n",
            " [ 3.19000000e+02  4.20000000e+01  1.50611816e+09  1.00000000e+00]]\n"
          ],
          "name": "stdout"
        },
        {
          "output_type": "stream",
          "text": [
            "/usr/local/lib/python3.7/dist-packages/ipykernel_launcher.py:1: H5pyDeprecationWarning: dataset.value has been deprecated. Use dataset[()] instead.\n",
            "  \"\"\"Entry point for launching an IPython kernel.\n"
          ],
          "name": "stderr"
        }
      ]
    },
    {
      "cell_type": "code",
      "metadata": {
        "colab": {
          "base_uri": "https://localhost:8080/"
        },
        "id": "jURn_IOZ0A3U",
        "outputId": "6e3d9a81-d1eb-4be5-f67e-6b1fc7cde11f"
      },
      "source": [
        "print(subgroup['image_raw'].value)"
      ],
      "execution_count": 8,
      "outputs": [
        {
          "output_type": "stream",
          "text": [
            "[[[ 0  0  0 ...  0  0  0]\n",
            "  [ 0  0  0 ... 10  4  1]\n",
            "  [ 0  0  0 ... 30 25 20]\n",
            "  ...\n",
            "  [ 0  0  0 ...  0  0  0]\n",
            "  [ 0  0  0 ...  0  0  0]\n",
            "  [ 0  0  0 ...  0  0  0]]\n",
            "\n",
            " [[ 0  0  0 ...  0  0  0]\n",
            "  [ 0  0  0 ... 15  5  2]\n",
            "  [ 0  0  0 ... 31 24 20]\n",
            "  ...\n",
            "  [ 0  0  0 ...  0  0  0]\n",
            "  [ 0  0  0 ...  0  0  0]\n",
            "  [ 0  0  0 ...  0  0  0]]\n",
            "\n",
            " [[ 0  0  0 ...  0  0  0]\n",
            "  [ 0  0  0 ... 16  7  1]\n",
            "  [ 0  0  0 ... 29 26 18]\n",
            "  ...\n",
            "  [ 0  0  0 ...  0  0  0]\n",
            "  [ 0  0  0 ...  0  0  0]\n",
            "  [ 0  0  0 ...  0  0  0]]\n",
            "\n",
            " ...\n",
            "\n",
            " [[ 0  0  0 ... 25 11  6]\n",
            "  [ 0  0  0 ... 51 30 19]\n",
            "  [ 0  0  0 ... 64 46 36]\n",
            "  ...\n",
            "  [ 0  0  0 ...  0  0  0]\n",
            "  [ 0  0  0 ...  0  0  0]\n",
            "  [ 0  0  0 ...  0  0  0]]\n",
            "\n",
            " [[ 0  0  0 ... 26 14  3]\n",
            "  [ 0  0  0 ... 48 28 19]\n",
            "  [ 0  0  0 ... 65 46 41]\n",
            "  ...\n",
            "  [ 0  0  0 ...  0  0  0]\n",
            "  [ 0  0  0 ...  0  0  0]\n",
            "  [ 0  0  0 ...  0  0  0]]\n",
            "\n",
            " [[ 0  0  0 ... 25 12  1]\n",
            "  [ 0  0  0 ... 44 27 21]\n",
            "  [ 0  0  0 ... 68 48 38]\n",
            "  ...\n",
            "  [ 0  0  0 ...  0  0  0]\n",
            "  [ 0  0  0 ...  0  0  0]\n",
            "  [ 0  0  0 ...  0  0  0]]]\n"
          ],
          "name": "stdout"
        },
        {
          "output_type": "stream",
          "text": [
            "/usr/local/lib/python3.7/dist-packages/ipykernel_launcher.py:1: H5pyDeprecationWarning: dataset.value has been deprecated. Use dataset[()] instead.\n",
            "  \"\"\"Entry point for launching an IPython kernel.\n"
          ],
          "name": "stderr"
        }
      ]
    },
    {
      "cell_type": "code",
      "metadata": {
        "colab": {
          "base_uri": "https://localhost:8080/"
        },
        "id": "f6unkPVp0Nyj",
        "outputId": "0b9baec3-d7e7-4d16-f8a5-3ebb7b2462d0"
      },
      "source": [
        "print(subgroup['image_raw_ts'].value)"
      ],
      "execution_count": 9,
      "outputs": [
        {
          "output_type": "stream",
          "text": [
            "[1.50611790e+09 1.50611790e+09 1.50611790e+09 ... 1.50611816e+09\n",
            " 1.50611816e+09 1.50611816e+09]\n"
          ],
          "name": "stdout"
        },
        {
          "output_type": "stream",
          "text": [
            "/usr/local/lib/python3.7/dist-packages/ipykernel_launcher.py:1: H5pyDeprecationWarning: dataset.value has been deprecated. Use dataset[()] instead.\n",
            "  \"\"\"Entry point for launching an IPython kernel.\n"
          ],
          "name": "stderr"
        }
      ]
    }
  ]
}